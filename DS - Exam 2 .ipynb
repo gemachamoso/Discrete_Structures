{
 "cells": [
  {
   "cell_type": "code",
   "execution_count": 13,
   "id": "61f53376",
   "metadata": {},
   "outputs": [
    {
     "name": "stdout",
     "output_type": "stream",
     "text": [
      "The change is $3.36\n",
      "You should give the costumer:\n",
      "  $3\n",
      "  1 quarters\n",
      "  1 dimes\n",
      "  1 pennies\n"
     ]
    }
   ],
   "source": [
    "import random\n",
    "\n",
    "change_due = random.randint(100,600)\n",
    "working_total = change_due\n",
    "\n",
    "dollars_due = working_total // 100\n",
    "working_total = working_total % 100\n",
    "\n",
    "quarters_due = working_total // 25\n",
    "working_total = working_total % 25\n",
    "\n",
    "dimes_due = working_total // 10\n",
    "working_total = working_total % 10\n",
    "\n",
    "nickel_due = working_total // 5\n",
    "working_total = working_total % 5\n",
    "\n",
    "pennies_due = working_total\n",
    "\n",
    "change_dollars = change_due / 100\n",
    "\n",
    "print(f\"The change is ${change_dollars}\")\n",
    "print(f\"You should give the costumer:\")\n",
    "\n",
    "if dollars_due != 0:\n",
    "    print(f\"  ${dollars_due}\")\n",
    "if quarters_due != 0:\n",
    "    print(f\"  {quarters_due} quarters\")\n",
    "if dimes_due != 0:\n",
    "    print(f\"  {dimes_due} dimes\")\n",
    "if nickel_due != 0:\n",
    "    print(f\"  {nickel_due} nickels\")\n",
    "if pennies_due != 0:\n",
    "    print(f\"  {pennies_due} pennies\")\n"
   ]
  },
  {
   "cell_type": "code",
   "execution_count": null,
   "id": "e2741adb",
   "metadata": {},
   "outputs": [],
   "source": []
  }
 ],
 "metadata": {
  "kernelspec": {
   "display_name": "Python 3 (ipykernel)",
   "language": "python",
   "name": "python3"
  },
  "language_info": {
   "codemirror_mode": {
    "name": "ipython",
    "version": 3
   },
   "file_extension": ".py",
   "mimetype": "text/x-python",
   "name": "python",
   "nbconvert_exporter": "python",
   "pygments_lexer": "ipython3",
   "version": "3.9.12"
  }
 },
 "nbformat": 4,
 "nbformat_minor": 5
}
