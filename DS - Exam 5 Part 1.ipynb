{
 "cells": [
  {
   "cell_type": "markdown",
   "id": "b5ba03c3",
   "metadata": {},
   "source": [
    "Write a program to count and print all the different ways\n",
    "there are to choose half a dozen donuts from\n",
    "3 varieties at a donut shop.\n",
    "Repeat the exercise for a full dozen with 21 varieties."
   ]
  },
  {
   "cell_type": "code",
   "execution_count": 1,
   "id": "4441efd1",
   "metadata": {},
   "outputs": [
    {
     "name": "stdout",
     "output_type": "stream",
     "text": [
      "Our varieties are: ['plain', 'chocolate', 'strawberry']\n",
      "# 1: ('plain', 'plain', 'plain', 'plain', 'plain', 'plain')\n",
      "# 2: ('plain', 'plain', 'plain', 'plain', 'plain', 'chocolate')\n",
      "# 3: ('plain', 'plain', 'plain', 'plain', 'plain', 'strawberry')\n",
      "# 4: ('plain', 'plain', 'plain', 'plain', 'chocolate', 'chocolate')\n",
      "# 5: ('plain', 'plain', 'plain', 'plain', 'chocolate', 'strawberry')\n",
      "# 6: ('plain', 'plain', 'plain', 'plain', 'strawberry', 'strawberry')\n",
      "# 7: ('plain', 'plain', 'plain', 'chocolate', 'chocolate', 'chocolate')\n",
      "# 8: ('plain', 'plain', 'plain', 'chocolate', 'chocolate', 'strawberry')\n",
      "# 9: ('plain', 'plain', 'plain', 'chocolate', 'strawberry', 'strawberry')\n",
      "# 10: ('plain', 'plain', 'plain', 'strawberry', 'strawberry', 'strawberry')\n",
      "# 11: ('plain', 'plain', 'chocolate', 'chocolate', 'chocolate', 'chocolate')\n",
      "# 12: ('plain', 'plain', 'chocolate', 'chocolate', 'chocolate', 'strawberry')\n",
      "# 13: ('plain', 'plain', 'chocolate', 'chocolate', 'strawberry', 'strawberry')\n",
      "# 14: ('plain', 'plain', 'chocolate', 'strawberry', 'strawberry', 'strawberry')\n",
      "# 15: ('plain', 'plain', 'strawberry', 'strawberry', 'strawberry', 'strawberry')\n",
      "# 16: ('plain', 'chocolate', 'chocolate', 'chocolate', 'chocolate', 'chocolate')\n",
      "# 17: ('plain', 'chocolate', 'chocolate', 'chocolate', 'chocolate', 'strawberry')\n",
      "# 18: ('plain', 'chocolate', 'chocolate', 'chocolate', 'strawberry', 'strawberry')\n",
      "# 19: ('plain', 'chocolate', 'chocolate', 'strawberry', 'strawberry', 'strawberry')\n",
      "# 20: ('plain', 'chocolate', 'strawberry', 'strawberry', 'strawberry', 'strawberry')\n",
      "# 21: ('plain', 'strawberry', 'strawberry', 'strawberry', 'strawberry', 'strawberry')\n",
      "# 22: ('chocolate', 'chocolate', 'chocolate', 'chocolate', 'chocolate', 'chocolate')\n",
      "# 23: ('chocolate', 'chocolate', 'chocolate', 'chocolate', 'chocolate', 'strawberry')\n",
      "# 24: ('chocolate', 'chocolate', 'chocolate', 'chocolate', 'strawberry', 'strawberry')\n",
      "# 25: ('chocolate', 'chocolate', 'chocolate', 'strawberry', 'strawberry', 'strawberry')\n",
      "# 26: ('chocolate', 'chocolate', 'strawberry', 'strawberry', 'strawberry', 'strawberry')\n",
      "# 27: ('chocolate', 'strawberry', 'strawberry', 'strawberry', 'strawberry', 'strawberry')\n",
      "# 28: ('strawberry', 'strawberry', 'strawberry', 'strawberry', 'strawberry', 'strawberry')\n"
     ]
    }
   ],
   "source": [
    "from itertools import combinations_with_replacement\n",
    "#https://www.geeksforgeeks.org/permutation-and-combination-in-python/\n",
    "\n",
    "varieties = [\"plain\", \"chocolate\", \"strawberry\"]\n",
    "\n",
    "print(f\"Our varieties are: {varieties}\")\n",
    "\n",
    "\n",
    "# pick 6 donuts from 3 varieties with replacement.\n",
    "donut_combinations = combinations_with_replacement(varieties, 6)\n",
    "\n",
    "# Print the obtained combinations \n",
    "index = 0\n",
    "for i in list(donut_combinations): \n",
    "    index += 1\n",
    "    print(f'# {index}: ', end = '')\n",
    "    print (i) "
   ]
  },
  {
   "cell_type": "code",
   "execution_count": null,
   "id": "a17bff74",
   "metadata": {},
   "outputs": [],
   "source": []
  }
 ],
 "metadata": {
  "kernelspec": {
   "display_name": "Python 3 (ipykernel)",
   "language": "python",
   "name": "python3"
  },
  "language_info": {
   "codemirror_mode": {
    "name": "ipython",
    "version": 3
   },
   "file_extension": ".py",
   "mimetype": "text/x-python",
   "name": "python",
   "nbconvert_exporter": "python",
   "pygments_lexer": "ipython3",
   "version": "3.9.12"
  }
 },
 "nbformat": 4,
 "nbformat_minor": 5
}
