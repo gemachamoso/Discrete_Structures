{
 "cells": [
  {
   "cell_type": "markdown",
   "id": "2f2e44ac",
   "metadata": {},
   "source": [
    "Discrete Structures Exam 3\n",
    "\n",
    "Programming: Estimating the number of primes less than x \n",
    "\n",
    "Write a program to count how many primes are less than 10, 100, 1,000, ..., 100,000,000. Fit a curve to your data and estimate the number of primes less than x, where x is a positive integer."
   ]
  },
  {
   "cell_type": "code",
   "execution_count": 11,
   "id": "5a8624b0",
   "metadata": {},
   "outputs": [
    {
     "name": "stdout",
     "output_type": "stream",
     "text": [
      "What is the upper limit:100\n",
      "We found a prime: 2. We have found 1 so far.\n",
      "We found a prime: 3. We have found 2 so far.\n",
      "We found a prime: 5. We have found 3 so far.\n",
      "We found a prime: 7. We have found 4 so far.\n",
      "We found a prime: 11. We have found 5 so far.\n",
      "We found a prime: 13. We have found 6 so far.\n",
      "We found a prime: 17. We have found 7 so far.\n",
      "We found a prime: 19. We have found 8 so far.\n",
      "We found a prime: 23. We have found 9 so far.\n",
      "We found a prime: 29. We have found 10 so far.\n",
      "We found a prime: 31. We have found 11 so far.\n",
      "We found a prime: 37. We have found 12 so far.\n",
      "We found a prime: 41. We have found 13 so far.\n",
      "We found a prime: 43. We have found 14 so far.\n",
      "We found a prime: 47. We have found 15 so far.\n",
      "We found a prime: 53. We have found 16 so far.\n",
      "We found a prime: 59. We have found 17 so far.\n",
      "We found a prime: 61. We have found 18 so far.\n",
      "We found a prime: 67. We have found 19 so far.\n",
      "We found a prime: 71. We have found 20 so far.\n",
      "We found a prime: 73. We have found 21 so far.\n",
      "We found a prime: 79. We have found 22 so far.\n",
      "We found a prime: 83. We have found 23 so far.\n",
      "We found a prime: 89. We have found 24 so far.\n",
      "We found a prime: 97. We have found 25 so far.\n",
      "less then x, number of primes\n",
      "100,25\n"
     ]
    }
   ],
   "source": [
    "def is_a_prime_number_basic(number_to_check):\n",
    "    #print(f\"Number to check is {number_to_check}.\")\n",
    "    is_prime = True\n",
    "    for check_value in range(2, number_to_check):\n",
    "        if 0 == number_to_check % check_value:\n",
    "            is_prime = False\n",
    "            return is_prime\n",
    "    return is_prime\n",
    "    \n",
    "# primes less than 10: 2,3,5,7\n",
    "\n",
    "lower_limit = 2\n",
    "upper_limit = int(input(\"What is the upper limit:\"))\n",
    "prime_number_count = 0\n",
    "\n",
    "for number_to_check in range(lower_limit,upper_limit):\n",
    "    #print(f\"Checking to see if {number_to_check} is prime.\")\n",
    "    if is_a_prime_number_basic(number_to_check):\n",
    "        prime_number_count += 1\n",
    "        print(f\"We found a prime: {number_to_check}. \",end =\"\")\n",
    "        print(f\"We have found {prime_number_count} so far.\")\n",
    "print(\"less then x, number of primes\")\n",
    "print(f\"{upper_limit},{prime_number_count}\")\n",
    "        \n",
    "#with open(\"less_than_x_data.csv\", \"a\") as \"f\":\n",
    "    #f.write({upper_limit},{prime_number_count})"
   ]
  },
  {
   "cell_type": "code",
   "execution_count": null,
   "id": "f5d8f497",
   "metadata": {},
   "outputs": [],
   "source": []
  }
 ],
 "metadata": {
  "kernelspec": {
   "display_name": "Python 3 (ipykernel)",
   "language": "python",
   "name": "python3"
  },
  "language_info": {
   "codemirror_mode": {
    "name": "ipython",
    "version": 3
   },
   "file_extension": ".py",
   "mimetype": "text/x-python",
   "name": "python",
   "nbconvert_exporter": "python",
   "pygments_lexer": "ipython3",
   "version": "3.9.12"
  }
 },
 "nbformat": 4,
 "nbformat_minor": 5
}
