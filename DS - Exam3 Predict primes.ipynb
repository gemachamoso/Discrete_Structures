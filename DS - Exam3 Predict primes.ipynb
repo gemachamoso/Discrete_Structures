{
 "cells": [
  {
   "cell_type": "markdown",
   "id": "dc8983ca",
   "metadata": {},
   "source": [
    "Discrete Structures Exam 3\n",
    "\n",
    "Programming: Estimating the number of primes less than x \n",
    "\n",
    "Write a program to count how many primes are less than 10, 100, 1,000, ..., 100,000,000. Fit a curve to your data and estimate the number of primes less than x, where x is a positive integer."
   ]
  },
  {
   "cell_type": "code",
   "execution_count": 13,
   "id": "e554ae2a",
   "metadata": {},
   "outputs": [
    {
     "name": "stdout",
     "output_type": "stream",
     "text": [
      "What is the upper limit: 10000\n",
      "less then x, number of primes: 10000, 1229\n"
     ]
    }
   ],
   "source": [
    "def is_a_prime_number_basic(number_to_check):\n",
    "    #print(f\"Number to check is {number_to_check}.\")\n",
    "    is_prime = True\n",
    "    for check_value in range(2, number_to_check):\n",
    "        if 0 == number_to_check % check_value:\n",
    "            is_prime = False\n",
    "            return is_prime\n",
    "    return is_prime\n",
    "    \n",
    "# primes less than 10: 2,3,5,7\n",
    "\n",
    "lower_limit = 2\n",
    "upper_limit = int(input(\"What is the upper limit: \"))\n",
    "prime_number_count = 0\n",
    "\n",
    "for number_to_check in range(lower_limit,upper_limit):\n",
    "    #print(f\"Checking to see if {number_to_check} is prime.\")\n",
    "    if is_a_prime_number_basic(number_to_check):\n",
    "        prime_number_count += 1\n",
    "        #print(f\"We found a prime: {number_to_check}. \",end =\"\")\n",
    "        #print(f\"We have found {prime_number_count} so far.\")\n",
    "print(\"less then x, number of primes: \",end =\"\")\n",
    "print(f\"{upper_limit}, {prime_number_count}\")\n",
    "        \n",
    "#with open(\"less_than_x_data.csv\", \"a\") as \"f\":\n",
    "    #f.write({upper_limit},{prime_number_count})"
   ]
  },
  {
   "cell_type": "code",
   "execution_count": null,
   "id": "193cc0d1",
   "metadata": {},
   "outputs": [],
   "source": []
  },
  {
   "cell_type": "code",
   "execution_count": null,
   "id": "856ae74a",
   "metadata": {},
   "outputs": [],
   "source": []
  }
 ],
 "metadata": {
  "kernelspec": {
   "display_name": "Python 3 (ipykernel)",
   "language": "python",
   "name": "python3"
  },
  "language_info": {
   "codemirror_mode": {
    "name": "ipython",
    "version": 3
   },
   "file_extension": ".py",
   "mimetype": "text/x-python",
   "name": "python",
   "nbconvert_exporter": "python",
   "pygments_lexer": "ipython3",
   "version": "3.9.12"
  }
 },
 "nbformat": 4,
 "nbformat_minor": 5
}
