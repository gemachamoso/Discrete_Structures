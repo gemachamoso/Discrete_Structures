{
 "cells": [
  {
   "cell_type": "markdown",
   "id": "79924348",
   "metadata": {},
   "source": [
    "Problem 9\n",
    "\n",
    "What are the quotient and remainder when"
   ]
  },
  {
   "cell_type": "code",
   "execution_count": 18,
   "id": "b7ad4322",
   "metadata": {},
   "outputs": [
    {
     "name": "stdout",
     "output_type": "stream",
     "text": [
      "What do you want divided? 80\n",
      "what do you want to divide that by? 12\n",
      "The quotient is: 6.\n",
      "The remainder is: 8.\n"
     ]
    }
   ],
   "source": [
    "user_input_being_divided = int(input('What do you want divided? '))\n",
    "user_input_divided_by = int(input('what do you want to divide that by? '))\n",
    "    \n",
    "quotient = user_input_being_divided // user_input_divided_by\n",
    "remainder = user_input_being_divided % user_input_divided_by\n",
    "\n",
    "print(f'The quotient is: {quotient}.\\nThe remainder is: {remainder}.')"
   ]
  },
  {
   "cell_type": "code",
   "execution_count": null,
   "id": "69e802c6",
   "metadata": {},
   "outputs": [],
   "source": []
  }
 ],
 "metadata": {
  "kernelspec": {
   "display_name": "Python 3 (ipykernel)",
   "language": "python",
   "name": "python3"
  },
  "language_info": {
   "codemirror_mode": {
    "name": "ipython",
    "version": 3
   },
   "file_extension": ".py",
   "mimetype": "text/x-python",
   "name": "python",
   "nbconvert_exporter": "python",
   "pygments_lexer": "ipython3",
   "version": "3.9.12"
  }
 },
 "nbformat": 4,
 "nbformat_minor": 5
}
