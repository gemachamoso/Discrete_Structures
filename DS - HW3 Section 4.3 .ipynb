{
 "cells": [
  {
   "cell_type": "code",
   "execution_count": 6,
   "id": "bcb02298",
   "metadata": {},
   "outputs": [
    {
     "name": "stdout",
     "output_type": "stream",
     "text": [
      "What would you like to find the prime numbers of?120\n",
      "You would you like to find the prime numbers of: 120.\n",
      "your prime factors so far []\n",
      "120 is evently divisible by 2.\n",
      "Your prime factors so far [2]\n",
      "60.0 is evently divisible by 3.\n",
      "Your prime factors so far [2, 3]\n",
      "20.0 is evently divisible by 4.\n",
      "Number is not prime.\n",
      "20.0 is evently divisible by 5.\n",
      "Your prime factors so far [2, 3, 5]\n",
      "4.0 is evently divisible by 2.\n",
      "Your prime factors so far [2, 3, 5, 2]\n",
      "2.0 is evently divisible by 2.\n",
      "Your prime factors so far [2, 3, 5, 2, 2]\n",
      "Your prime factors are[2, 2, 2, 3, 5]\n"
     ]
    }
   ],
   "source": [
    "import math\n",
    "def is_a_prime_number_basic(number_to_check):\n",
    "    #print(f\"Number to check is {number_to_check}.\")\n",
    "    is_prime = True\n",
    "    for check_value in range(2, number_to_check):\n",
    "        if 0 == number_to_check % check_value:\n",
    "            is_prime = False\n",
    "            return is_prime\n",
    "    return is_prime\n",
    "\n",
    "if __name__ == \"__main__\":\n",
    "    number_to_work = int(input(\"What would you like to find the prime numbers of?\"))\n",
    "    #EXERCISE NUMBER 5\n",
    "    #number_to_work = math.factorial(10)\n",
    "    print(f\"You would you like to find the prime numbers of: {number_to_work}.\")\n",
    "\n",
    "    prime_factors = []\n",
    "    print(f\"your prime factors so far {prime_factors}\")\n",
    "    \n",
    "    working_number = number_to_work\n",
    "    results_check = 1\n",
    "    while working_number != results_check:\n",
    "        for number_to_check in range(2, number_to_work):\n",
    "            #print(f\"Our number to check is now: {number_to_check}.\")\n",
    "            if 0 == working_number % number_to_check:\n",
    "                print(f\"{working_number} is evently divisible by {number_to_check}.\")\n",
    "                if is_a_prime_number_basic(number_to_check):\n",
    "                    prime_factors.append(number_to_check)\n",
    "                    print(f\"Your prime factors so far {prime_factors}\")\n",
    "                    working_number = working_number / number_to_check\n",
    "                else:\n",
    "                    print(\"Number is not prime.\")    \n",
    "    \n",
    "    results_check = 1\n",
    "    for item in prime_factors:\n",
    "        results_check = results_check * item\n",
    "    \n",
    "    prime_factors.sort()\n",
    "    print(f\"Your prime factors are{prime_factors}\")\n",
    "    "
   ]
  },
  {
   "cell_type": "code",
   "execution_count": null,
   "id": "7ccb6a24",
   "metadata": {},
   "outputs": [],
   "source": []
  }
 ],
 "metadata": {
  "kernelspec": {
   "display_name": "Python 3 (ipykernel)",
   "language": "python",
   "name": "python3"
  },
  "language_info": {
   "codemirror_mode": {
    "name": "ipython",
    "version": 3
   },
   "file_extension": ".py",
   "mimetype": "text/x-python",
   "name": "python",
   "nbconvert_exporter": "python",
   "pygments_lexer": "ipython3",
   "version": "3.9.12"
  }
 },
 "nbformat": 4,
 "nbformat_minor": 5
}
