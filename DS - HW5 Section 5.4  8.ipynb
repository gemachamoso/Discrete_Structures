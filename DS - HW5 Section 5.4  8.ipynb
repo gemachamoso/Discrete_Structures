{
 "cells": [
  {
   "cell_type": "code",
   "execution_count": 13,
   "id": "0397a41e",
   "metadata": {},
   "outputs": [
    {
     "name": "stdout",
     "output_type": "stream",
     "text": [
      "What do you want to sum up to? 3\n",
      "The simple function says the sum is: 6.\n",
      "The recursive function says the sum is: 6.\n"
     ]
    }
   ],
   "source": [
    "def find_simple_sum(number_to_sum_to):\n",
    "    #print(f\"we are going to sum up to: {number_to_sum_to}.\")\n",
    "    sum = 0\n",
    "    for our_number in range(1,(number_to_sum_to + 1)):\n",
    "        #print(f\"our number is: {our_number}.\")\n",
    "        sum += our_number\n",
    "        #print(f\"sum is now: {sum}.\")\n",
    "    return sum\n",
    "\n",
    "def find_recursive_sum(number_to_sum_to):\n",
    "    #rint(f\"we are going to sum up to: {number_to_sum_to}.\")\n",
    "    if 1== number_to_sum_to:\n",
    "        return 1\n",
    "    else:\n",
    "        return number_to_sum_to + find_recursive_sum(number_to_sum_to-1)\n",
    "    \n",
    "    \n",
    "if __name__ == \"__main__\":\n",
    "    user_selected_positive_integer = int(input(\"What do you want to sum up to? \"))\n",
    "    #print(f\"you entered {user_selected_positive_integer}.\")\n",
    "    \n",
    "    simple_sum = find_simple_sum(user_selected_positive_integer)\n",
    "    print(f\"The simple function says the sum is: {simple_sum}.\")\n",
    "    \n",
    "    recursive_sum = find_recursive_sum(user_selected_positive_integer)\n",
    "    print(f\"The recursive function says the sum is: {recursive_sum}.\")\n",
    "   "
   ]
  },
  {
   "cell_type": "code",
   "execution_count": null,
   "id": "2f61f60e",
   "metadata": {},
   "outputs": [],
   "source": []
  },
  {
   "cell_type": "code",
   "execution_count": null,
   "id": "85e6ddae",
   "metadata": {},
   "outputs": [],
   "source": []
  }
 ],
 "metadata": {
  "kernelspec": {
   "display_name": "Python 3 (ipykernel)",
   "language": "python",
   "name": "python3"
  },
  "language_info": {
   "codemirror_mode": {
    "name": "ipython",
    "version": 3
   },
   "file_extension": ".py",
   "mimetype": "text/x-python",
   "name": "python",
   "nbconvert_exporter": "python",
   "pygments_lexer": "ipython3",
   "version": "3.9.12"
  }
 },
 "nbformat": 4,
 "nbformat_minor": 5
}
