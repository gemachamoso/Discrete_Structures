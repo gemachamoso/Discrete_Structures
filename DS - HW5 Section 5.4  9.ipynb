{
 "cells": [
  {
   "cell_type": "code",
   "execution_count": 1,
   "id": "6a00d9f0",
   "metadata": {},
   "outputs": [
    {
     "name": "stdout",
     "output_type": "stream",
     "text": [
      "what do you want to sum up to? 3\n",
      "the simple function says the sum is: 4.\n",
      "we are going to sum up to: 3.\n",
      "we are not at the base case.\n",
      "our number is odd\n",
      "we are going to add 3 and 2.\n",
      "we are going to sum up to: 2.\n",
      "we are not at the base case.\n",
      "our number is even\n",
      "so we don't need to add anything\n",
      "skip 2 and keep adding with 1.\n",
      "we are going to sum up to: 1.\n",
      "the recursive function says the sum is: 4.\n"
     ]
    }
   ],
   "source": [
    "def find_recursive_sum(number_to_sum_to):\n",
    "    print(f'we are going to sum up to: {number_to_sum_to}.')\n",
    "    \n",
    "    if 1 == number_to_sum_to:\n",
    "        #print('now we can return 1')\n",
    "        return 1\n",
    "    else:\n",
    "        if 0 == number_to_sum_to % 2:\n",
    "            print('our number is even')\n",
    "            print('so we don\\'t need to add anything')\n",
    "            print(f'skip {number_to_sum_to} and keep adding with {number_to_sum_to - 1}.')\n",
    "            return find_recursive_sum(number_to_sum_to - 1)\n",
    "        else:\n",
    "            print('our number is odd')\n",
    "            print(f'we are going to add {number_to_sum_to} and {number_to_sum_to - 1}.')\n",
    "            return number_to_sum_to + find_recursive_sum(number_to_sum_to - 1)\n",
    "\n",
    "def find_simple_sum(number_to_sum_to):\n",
    "    #print(f'we are going to sum up to: {number_to_sum_to}.')\n",
    "    sum = 0\n",
    "    for our_number in range(1, (number_to_sum_to + 1)):\n",
    "        #print(f'our number is: {our_number}.')\n",
    "        #sum = sum + our_number\n",
    "        if not 0 == our_number % 2:\n",
    "            sum += our_number\n",
    "        #print(f'sum is now: {sum}.')\n",
    "    return sum\n",
    "\n",
    "if __name__ == '__main__':\n",
    "    user_selected_positive_integer = int(input('what do you want to sum up to? '))\n",
    "    #print(f'you entered {user_selected_positive_integer}.')\n",
    "\n",
    "    simple_sum = find_simple_sum(user_selected_positive_integer)\n",
    "    print(f'the simple function says the sum is: {simple_sum}.')\n",
    "\n",
    "    recursive_sum = find_recursive_sum(user_selected_positive_integer)\n",
    "    print(f'the recursive function says the sum is: {recursive_sum}.')"
   ]
  },
  {
   "cell_type": "code",
   "execution_count": null,
   "id": "5a863028",
   "metadata": {},
   "outputs": [],
   "source": []
  }
 ],
 "metadata": {
  "kernelspec": {
   "display_name": "Python 3 (ipykernel)",
   "language": "python",
   "name": "python3"
  },
  "language_info": {
   "codemirror_mode": {
    "name": "ipython",
    "version": 3
   },
   "file_extension": ".py",
   "mimetype": "text/x-python",
   "name": "python",
   "nbconvert_exporter": "python",
   "pygments_lexer": "ipython3",
   "version": "3.9.12"
  }
 },
 "nbformat": 4,
 "nbformat_minor": 5
}
