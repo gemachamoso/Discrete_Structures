{
 "cells": [
  {
   "cell_type": "markdown",
   "id": "d9bafd85",
   "metadata": {},
   "source": [
    "#### Programming Exam: \n",
    "Develop a collection of four different rules for generating the terms of a sequence. \n",
    "Generate a program for randomly selecting a rule, and a starting point. \n",
    "Give the user the first four terms of the sequence, and ask them for the fifth. \n",
    "Tell them if they were correct or not."
   ]
  },
  {
   "cell_type": "code",
   "execution_count": null,
   "id": "a354bf3f",
   "metadata": {},
   "outputs": [],
   "source": [
    "function_choice = random.randint(1,2)\n",
    "print(function_choice)\n",
    "\n",
    "answer = 0\n",
    "user_answer = 0\n",
    "\n",
    "if function_choice == 1:\n",
    "    initial_number = random.randint(0,10)\n",
    "    #print(f\"Initial number is {initial_number}.\")\n",
    "    difference = random.randint(0,10)\n",
    "    #print(f\"Difference is {difference}.\")\n",
    "    term_1 = initial_number\n",
    "    term_2 = initial_number + difference\n",
    "    term_3 = initial_number + difference * 2\n",
    "    print(f\"The sequence is {term_1}  {term_2}  {term_3}.\")"
   ]
  },
  {
   "cell_type": "code",
   "execution_count": 25,
   "id": "8bd3ce1a",
   "metadata": {},
   "outputs": [
    {
     "name": "stdout",
     "output_type": "stream",
     "text": [
      "3\n",
      "The sequence is 4  6  10  16  26.\n",
      "What is the next number in the sequence? 42\n",
      "You are correct.\n"
     ]
    }
   ],
   "source": [
    "import random\n",
    "\n",
    "function_choice = random.randint(1,3)\n",
    "print(function_choice)\n",
    "\n",
    "answer = 0\n",
    "user_answer = 0\n",
    "\n",
    "if 1 == function_choice:\n",
    "    difference = random.randint(0,10)\n",
    "    #print(f\"Difference is {difference}.\")\n",
    "    term_1 = random.randint(0,10)\n",
    "    term_2 = term_1 + difference\n",
    "    term_3 = term_2 + difference\n",
    "    term_4 = term_3 + difference\n",
    "    term_5 = term_4 + difference\n",
    "    print(f\"The sequence is {term_1}  {term_2}  {term_3}  {term_4}.\")\n",
    "    answer = term_5\n",
    "elif 2 == function_choice:\n",
    "    term_1 = random.randint(1,10)\n",
    "    term_2 = 2 * term_1\n",
    "    term_3 = 2 * term_2\n",
    "    term_4 = 2 * term_3\n",
    "    term_5 = 2 * term_4\n",
    "    print(f\"The sequence is {term_1}  {term_2}  {term_3}  {term_4}.\")\n",
    "    answer = term_5\n",
    "elif 3 == function_choice: #Fibonacci sequence\n",
    "    term_1 = random.randint(1,10)\n",
    "    term_2 = random.randint(1,10)\n",
    "    term_3 = term_1 + term_2\n",
    "    term_4 = term_2 + term_3\n",
    "    term_5 = term_3 + term_4\n",
    "    term_6 = term_4 + term_5\n",
    "    print(f\"The sequence is {term_1}  {term_2}  {term_3}  {term_4}  {term_5}.\")\n",
    "    answer = term_6\n",
    "else:\n",
    "    print(\"That was not recognized\")\n",
    "    \n",
    "user_input = int(input(\"What is the next number in the sequence? \"))\n",
    "if answer == user_input:\n",
    "    print(\"You are correct.\")\n",
    "else:\n",
    "    print(f\"You are not correct. The answer is {answer}.\")"
   ]
  },
  {
   "cell_type": "code",
   "execution_count": null,
   "id": "34679c14",
   "metadata": {},
   "outputs": [],
   "source": []
  }
 ],
 "metadata": {
  "kernelspec": {
   "display_name": "Python 3 (ipykernel)",
   "language": "python",
   "name": "python3"
  },
  "language_info": {
   "codemirror_mode": {
    "name": "ipython",
    "version": 3
   },
   "file_extension": ".py",
   "mimetype": "text/x-python",
   "name": "python",
   "nbconvert_exporter": "python",
   "pygments_lexer": "ipython3",
   "version": "3.9.12"
  }
 },
 "nbformat": 4,
 "nbformat_minor": 5
}
