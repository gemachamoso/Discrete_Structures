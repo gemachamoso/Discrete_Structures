{
 "cells": [
  {
   "cell_type": "code",
   "execution_count": 4,
   "id": "6c1b6d4e",
   "metadata": {},
   "outputs": [
    {
     "name": "stdout",
     "output_type": "stream",
     "text": [
      "Hello\n",
      "2\n"
     ]
    }
   ],
   "source": [
    "print(\"Hello\")\n",
    "import random"
   ]
  },
  {
   "cell_type": "code",
   "execution_count": 5,
   "id": "a354bf3f",
   "metadata": {},
   "outputs": [
    {
     "name": "stdout",
     "output_type": "stream",
     "text": [
      "2\n"
     ]
    }
   ],
   "source": [
    "function_choice = random.randint(1,2)\n",
    "print(function_choice)\n",
    "\n",
    "answer = 0\n",
    "user_answer = 0\n",
    "\n",
    "if function_choice == 1:\n",
    "    initial_number = 3\n",
    "    difference = 7\n",
    "    term_1 = initial_number\n",
    "    term_2 = initial_number + difference\n",
    "    term_3 = initial_number + difference * 2"
   ]
  },
  {
   "cell_type": "code",
   "execution_count": 20,
   "id": "b42a697e",
   "metadata": {},
   "outputs": [],
   "source": [
    "def function_1():\n",
    "    initial_number = random.randint(0,10)\n",
    "    print(f\"Initial number is {initial_number}.\")\n",
    "    difference = random.randint(0,10)\n",
    "    print(f\"Difference is {difference}.\")\n",
    "    term_1 = initial_number\n",
    "    term_2 = initial_number + difference\n",
    "    term_3 = initial_number + difference * 2\n",
    "    term_4 = initial_number + difference * 3\n",
    "    term_5 = initial_number + difference * 4\n",
    "    print(f\"The sequence is {term_1}  {term_2}  {term_3}  {term_4}.\")\n",
    "    return term_5\n",
    "    "
   ]
  },
  {
   "cell_type": "code",
   "execution_count": 26,
   "id": "c5d75448",
   "metadata": {},
   "outputs": [
    {
     "name": "stdout",
     "output_type": "stream",
     "text": [
      "Initial number is 3.\n",
      "Difference is 1.\n",
      "The sequence is 3  4  5  6.\n",
      "What is the next number in the sequence?7\n",
      "You are not correct. The answer is 7.\n"
     ]
    }
   ],
   "source": [
    "answer = function_1()\n",
    "user_input = input(\"What is the next number in the sequence?\")\n",
    "if answer == user_input:\n",
    "    print(\"You are correct.\")\n",
    "else:\n",
    "    print(f\"You are not correct. The answer is {answer}.\")\n"
   ]
  },
  {
   "cell_type": "code",
   "execution_count": 28,
   "id": "08ac50c0",
   "metadata": {},
   "outputs": [
    {
     "name": "stdout",
     "output_type": "stream",
     "text": [
      "2\n",
      "The sequence is 5  3  13  19  45.\n",
      "What is the next number in the sequence?83\n",
      "You are correct.\n"
     ]
    }
   ],
   "source": [
    "import random\n",
    "\n",
    "function_choice = random.randint(1,2)\n",
    "print(function_choice)\n",
    "\n",
    "answer = 0\n",
    "user_answer = 0\n",
    "\n",
    "if 1 == function_choice:\n",
    "    initial_number = random.randint(0,10)\n",
    "    #print(f\"Initial number is {initial_number}.\")\n",
    "    difference = random.randint(0,10)\n",
    "    #print(f\"Difference is {difference}.\")\n",
    "    term_1 = initial_number\n",
    "    term_2 = initial_number + difference\n",
    "    term_3 = initial_number + difference * 2\n",
    "    term_4 = initial_number + difference * 3\n",
    "    term_5 = initial_number + difference * 4\n",
    "    print(f\"The sequence is {term_1}  {term_2}  {term_3}  {term_4}.\")\n",
    "    answer = term_5\n",
    "elif 2 == function_choice:\n",
    "    term_1 = random.randint(0,10)\n",
    "    term_2 = random.randint(0,10)\n",
    "    term_3 = 2 * term_1 + term_2\n",
    "    term_4 = 2 * term_2 + term_3\n",
    "    term_5 = 2 * term_3 + term_4\n",
    "    term_6 = 2 * term_4 + term_5\n",
    "    print(f\"The sequence is {term_1}  {term_2}  {term_3}  {term_4}  {term_5}.\")\n",
    "    answer = term_6\n",
    "else:\n",
    "    print(\"That was not recognized\")\n",
    "    \n",
    "user_input = int(input(\"What is the next number in the sequence? \"))\n",
    "if answer == user_input:\n",
    "    print(\"You are correct.\")\n",
    "else:\n",
    "    print(f\"You are not correct. The answer is {answer}.\")"
   ]
  },
  {
   "cell_type": "code",
   "execution_count": null,
   "id": "8bd3ce1a",
   "metadata": {},
   "outputs": [],
   "source": []
  }
 ],
 "metadata": {
  "kernelspec": {
   "display_name": "Python 3 (ipykernel)",
   "language": "python",
   "name": "python3"
  },
  "language_info": {
   "codemirror_mode": {
    "name": "ipython",
    "version": 3
   },
   "file_extension": ".py",
   "mimetype": "text/x-python",
   "name": "python",
   "nbconvert_exporter": "python",
   "pygments_lexer": "ipython3",
   "version": "3.9.12"
  }
 },
 "nbformat": 4,
 "nbformat_minor": 5
}
