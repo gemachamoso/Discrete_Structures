{
 "cells": [
  {
   "cell_type": "markdown",
   "id": "cdcb0d44",
   "metadata": {},
   "source": [
    "Problem 7: Describe an algorithm that takes as input a list of n integers and finds the location of the last even integer in the list or returns 0 if there are no even integers in the list."
   ]
  },
  {
   "cell_type": "code",
   "execution_count": 18,
   "id": "6a1d0e9f",
   "metadata": {},
   "outputs": [
    {
     "name": "stdout",
     "output_type": "stream",
     "text": [
      "The list of integers is: [22, 19, 13, 20, 7]\n",
      "The reverse list of integers is [7, 20, 13, 19, 22]\n",
      "The location of the last even number is 4.\n"
     ]
    }
   ],
   "source": [
    "import random\n",
    "\n",
    "def fill_list_of_integers(number_of_integers):\n",
    "    list_of_integers = []\n",
    "    for number in range(0, number_of_integers):\n",
    "        #print(number)\n",
    "        new_number = random.randint(0,22)\n",
    "        list_of_integers.append(new_number)\n",
    "    return list_of_integers\n",
    "\n",
    "def find_last_even_integer(list_of_integers):\n",
    "    last_location = 0\n",
    "    \n",
    "    #Reverse the list\n",
    "    list_of_integers.reverse()\n",
    "    print(f\"The reverse list of integers is {list_of_integers}\")\n",
    "    \n",
    "    location = 0\n",
    "    check_location = 0\n",
    "    for check_number in list_of_integers:\n",
    "        if 0 == check_number %2:\n",
    "            #print(f\"You found an even! {check_number}.\")\n",
    "            #print(f\"Check location was {check_location}.\")\n",
    "            location = len(list_of_integers) - check_location\n",
    "            print(f\"The location of the last even number is {location}.\")\n",
    "            break\n",
    "        else:\n",
    "            check_location += 1\n",
    "    return location\n",
    "        \n",
    "    \n",
    "if __name__ == \"__main__\":\n",
    "    number_of_integers = 5\n",
    "    list_of_integers = []\n",
    "\n",
    "    list_of_integers = fill_list_of_integers(number_of_integers)\n",
    "    print(f\"The list of integers is: {list_of_integers}\")\n",
    "    \n",
    "    last_even_integer_address = find_last_even_integer(list_of_integers)"
   ]
  },
  {
   "cell_type": "code",
   "execution_count": null,
   "id": "b7622aef",
   "metadata": {},
   "outputs": [],
   "source": []
  }
 ],
 "metadata": {
  "kernelspec": {
   "display_name": "Python 3 (ipykernel)",
   "language": "python",
   "name": "python3"
  },
  "language_info": {
   "codemirror_mode": {
    "name": "ipython",
    "version": 3
   },
   "file_extension": ".py",
   "mimetype": "text/x-python",
   "name": "python",
   "nbconvert_exporter": "python",
   "pygments_lexer": "ipython3",
   "version": "3.9.12"
  }
 },
 "nbformat": 4,
 "nbformat_minor": 5
}
