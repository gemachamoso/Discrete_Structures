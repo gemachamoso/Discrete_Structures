{
 "cells": [
  {
   "cell_type": "markdown",
   "id": "02bcc302",
   "metadata": {},
   "source": [
    "Problem 8: Describe an algorithm that takes as input a list of n distinct integers and finds the location of the largest even integer in the list or returns 0 if there are no even integers in the list."
   ]
  },
  {
   "cell_type": "code",
   "execution_count": 36,
   "id": "12c7e286",
   "metadata": {},
   "outputs": [
    {
     "name": "stdout",
     "output_type": "stream",
     "text": [
      "The list of integers is: [0, 3, 11, 19, 4]\n",
      "[0, 3, 11, 19, 4]\n",
      "[0, 3, 4, 11, 19]\n",
      "The sort list of integers is [0, 3, 4, 11, 19]\n",
      "The largest largest number is 19, and its location is 1.\n"
     ]
    }
   ],
   "source": [
    "import random\n",
    "\n",
    "def fill_list_of_integers(number_of_integers):\n",
    "    list_of_integers = []\n",
    "    for number in range(0, number_of_integers):\n",
    "        #print(number)\n",
    "        new_number = random.randint(0,22)\n",
    "        list_of_integers.append(new_number)\n",
    "    return list_of_integers\n",
    "\n",
    "def find_largest_even_integer(list_of_integers):\n",
    "    last_location = 0\n",
    "    \n",
    "    #Sort the list\n",
    "    list_of_integers2 = list_of_integers\n",
    "    sort_list_of_integers = list_of_integers2\n",
    "    print(list_of_integers)\n",
    "    sort_list_of_integers.sort()\n",
    "    print(list_of_integers)\n",
    "    print(f\"The sort list of integers is {sort_list_of_integers}\")\n",
    "    \n",
    "    location = 0\n",
    "    check_location = 0\n",
    "    for check_number in list_of_integers:\n",
    "        if sort_list_of_integers[4] == check_number:\n",
    "            #print(f\"You found it, i {check_number}.\")\n",
    "            #print(f\"Check location was {check_location}.\")\n",
    "            location = check_location + 1\n",
    "            print(f\"The largest largest number is {check_number}, and its location is {location}.\")\n",
    "            break\n",
    "        \n",
    "    return location\n",
    "\n",
    "if __name__ == \"__main__\":\n",
    "    number_of_integers = 5\n",
    "    list_of_integers = []\n",
    "    \n",
    "    list_of_integers = fill_list_of_integers(number_of_integers)\n",
    "    print(f\"The list of integers is: {list_of_integers}\")\n",
    "    \n",
    "    largest_even_integer_address = find_largest_even_integer(list_of_integers)\n"
   ]
  },
  {
   "cell_type": "code",
   "execution_count": null,
   "id": "1f50c1c8",
   "metadata": {},
   "outputs": [],
   "source": []
  },
  {
   "cell_type": "code",
   "execution_count": null,
   "id": "8faaa1dc",
   "metadata": {},
   "outputs": [],
   "source": []
  }
 ],
 "metadata": {
  "kernelspec": {
   "display_name": "Python 3 (ipykernel)",
   "language": "python",
   "name": "python3"
  },
  "language_info": {
   "codemirror_mode": {
    "name": "ipython",
    "version": 3
   },
   "file_extension": ".py",
   "mimetype": "text/x-python",
   "name": "python",
   "nbconvert_exporter": "python",
   "pygments_lexer": "ipython3",
   "version": "3.9.12"
  }
 },
 "nbformat": 4,
 "nbformat_minor": 5
}
