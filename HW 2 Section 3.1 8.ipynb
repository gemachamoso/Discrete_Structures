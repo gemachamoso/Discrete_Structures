{
 "cells": [
  {
   "cell_type": "markdown",
   "id": "77d7a0e6",
   "metadata": {},
   "source": [
    "Problem 8: Describe an algorithm that takes as input a list of n distinct integers and finds the location of the largest even integer in the list or returns 0 if there are no even integers in the list."
   ]
  },
  {
   "cell_type": "code",
   "execution_count": 42,
   "id": "61619b56",
   "metadata": {},
   "outputs": [
    {
     "name": "stdout",
     "output_type": "stream",
     "text": [
      "The list of integers is: [11, 8, 12, 10, 10]\n",
      "The sort list of integers is [8, 10, 10, 11, 12]\n",
      "The list of integers is: [8, 10, 10, 11, 12]\n",
      "The largest number is 12, and its location is 1.\n"
     ]
    }
   ],
   "source": [
    "import random\n",
    "\n",
    "def fill_list_of_integers(number_of_integers):\n",
    "    list_of_integers = []\n",
    "    for number in range(0, number_of_integers):\n",
    "        #print(number)\n",
    "        new_number = random.randint(0,22)\n",
    "        list_of_integers.append(new_number)\n",
    "    return list_of_integers\n",
    "\n",
    "def sort_list_of_integers(list_of_integers):\n",
    "    sorted_list_of_integers = list_of_integers\n",
    "    sorted_list_of_integers.sort()\n",
    "    print(f\"The sort list of integers is {sorted_list_of_integers}\")\n",
    "    return sorted_list_of_integers\n",
    "\n",
    "def find_largest_even_integer(list_of_integers):\n",
    "    last_location = 0\n",
    "    \n",
    "    location = 0\n",
    "    check_location = 0\n",
    "    for check_number in list_of_integers:\n",
    "        if sorted_list_of_integers[4] == check_number:\n",
    "            #print(f\"You found it, it is {check_number}.\")\n",
    "            #print(f\"Check location was {check_location}.\")\n",
    "            location = check_location + 1\n",
    "            print(f\"The largest number is {check_number}, and its location is {location}.\")\n",
    "            break\n",
    "        \n",
    "    return location\n",
    "\n",
    "if __name__ == \"__main__\":\n",
    "    number_of_integers = 5\n",
    "    list_of_integers = []\n",
    "    \n",
    "    list_of_integers = fill_list_of_integers(number_of_integers)\n",
    "    print(f\"The list of integers is: {list_of_integers}\")\n",
    "    \n",
    "    sorted_list_of_integers = sort_list_of_integers(list_of_integers)\n",
    "    print(f\"The list of integers is: {list_of_integers}\")\n",
    "\n",
    "    largest_even_integer_address = find_largest_even_integer(list_of_integers)\n"
   ]
  },
  {
   "cell_type": "markdown",
   "id": "d4ed2f9d",
   "metadata": {},
   "source": []
  },
  {
   "cell_type": "code",
   "execution_count": null,
   "id": "7cfb7f63",
   "metadata": {},
   "outputs": [],
   "source": []
  }
 ],
 "metadata": {
  "kernelspec": {
   "display_name": "Python 3 (ipykernel)",
   "language": "python",
   "name": "python3"
  },
  "language_info": {
   "codemirror_mode": {
    "name": "ipython",
    "version": 3
   },
   "file_extension": ".py",
   "mimetype": "text/x-python",
   "name": "python",
   "nbconvert_exporter": "python",
   "pygments_lexer": "ipython3",
   "version": "3.9.12"
  }
 },
 "nbformat": 4,
 "nbformat_minor": 5
}
