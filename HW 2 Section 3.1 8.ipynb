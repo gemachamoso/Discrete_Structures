{
 "cells": [
  {
   "cell_type": "markdown",
   "id": "6756b89a",
   "metadata": {},
   "source": [
    "Problem 8: Describe an algorithm that takes as input a list of n distinct integers and finds the location of the largest even integer in the list or returns 0 if there are no even integers in the list."
   ]
  },
  {
   "cell_type": "code",
   "execution_count": 180,
   "id": "5ac5cf3a",
   "metadata": {},
   "outputs": [
    {
     "ename": "SyntaxError",
     "evalue": "invalid syntax (3219415305.py, line 42)",
     "output_type": "error",
     "traceback": [
      "\u001b[1;36m  Input \u001b[1;32mIn [180]\u001b[1;36m\u001b[0m\n\u001b[1;33m    if largest_even_integer = \"-1\":\u001b[0m\n\u001b[1;37m                            ^\u001b[0m\n\u001b[1;31mSyntaxError\u001b[0m\u001b[1;31m:\u001b[0m invalid syntax\n"
     ]
    }
   ],
   "source": [
    "import random\n",
    "\n",
    "def fill_list_of_integers(number_of_integers):\n",
    "    list_of_integers = []\n",
    "    for number in range(0, number_of_integers):\n",
    "        #print(number)\n",
    "        new_number = random.randint(0,22)\n",
    "        list_of_integers.append(new_number)\n",
    "    return list_of_integers\n",
    "\n",
    "def find_largest_even_integer(list_of_integers):\n",
    "    location = 0\n",
    "    check_location = 0\n",
    "    \n",
    "    list_of_integers = [1,3,5,7,9]\n",
    "\n",
    "    sorted_list_of_integers = list(sorted(list_of_integers))\n",
    "\n",
    "    check_number = number_of_integers - 1\n",
    "    while check_number >= 0:\n",
    "        if 0 == sorted_list_of_integers[check_number] %2:\n",
    "            largest_even_number = sorted_list_of_integers[check_number]\n",
    "            largest_location = check_number - 1\n",
    "            print(f\"The largest even number is {largest_even_number}.\")\n",
    "            break\n",
    "        else:\n",
    "            check_number -= 1\n",
    "    if check_number == -1:\n",
    "        largest_even_number = -1\n",
    "    return largest_even_number\n",
    "\n",
    "if __name__ == \"__main__\":\n",
    "    number_of_integers = 5\n",
    "    list_of_integers = []\n",
    "    \n",
    "    list_of_integers = fill_list_of_integers(number_of_integers)\n",
    "    print(f\"The list of integers is: {list_of_integers}\")\n",
    "    \n",
    "    largest_even_integer = find_largest_even_integer(list_of_integers)\n",
    "    \n",
    "    print(largest_even_integer)\n",
    "    if largest_even_integer = -1:\n",
    "        print(\"There are no even numbers.\")\n",
    "\n",
    "    location = 1\n",
    "    for number in list_of_integers:\n",
    "        if number == largest_even_integer:\n",
    "            print(f\"The largest even number is {largest_even_integer}, and its location is {location}.\")\n",
    "        else:\n",
    "            location += 1\n"
   ]
  },
  {
   "cell_type": "code",
   "execution_count": null,
   "id": "b26929d4",
   "metadata": {},
   "outputs": [],
   "source": []
  },
  {
   "cell_type": "code",
   "execution_count": null,
   "id": "50fb2f10",
   "metadata": {},
   "outputs": [],
   "source": []
  }
 ],
 "metadata": {
  "kernelspec": {
   "display_name": "Python 3 (ipykernel)",
   "language": "python",
   "name": "python3"
  },
  "language_info": {
   "codemirror_mode": {
    "name": "ipython",
    "version": 3
   },
   "file_extension": ".py",
   "mimetype": "text/x-python",
   "name": "python",
   "nbconvert_exporter": "python",
   "pygments_lexer": "ipython3",
   "version": "3.9.12"
  }
 },
 "nbformat": 4,
 "nbformat_minor": 5
}
