{
 "cells": [
  {
   "cell_type": "markdown",
   "id": "d8066c6c",
   "metadata": {},
   "source": [
    "Problem 9: A palindrome is a string that reads the same forward and backward. Describe an algorithm for determining whether a string of n characters is a palindrome."
   ]
  },
  {
   "cell_type": "code",
   "execution_count": 37,
   "id": "55fe49b4",
   "metadata": {},
   "outputs": [
    {
     "name": "stdout",
     "output_type": "stream",
     "text": [
      "kmb is not a palindrome.\n"
     ]
    }
   ],
   "source": [
    "import random\n",
    "import string\n",
    "\n",
    "number_of_characters = 3\n",
    "list_of_characters = []\n",
    "string_of_characters = \"\"\n",
    "list_of_characters = string_of_characters.split()\n",
    "\n",
    "#Create string\n",
    "for number in range(0, number_of_characters):\n",
    "    new_character = random.choice(string.ascii_lowercase)\n",
    "    list_of_characters.append(new_character)\n",
    "\n",
    "string_of_characters = \"\".join(list_of_characters)\n",
    "\n",
    "reverse_list_of_characters = list(reversed(list_of_characters))\n",
    "\n",
    "#Check if the string is a palindrome\n",
    "if list_of_characters == reverse_list_of_characters:\n",
    "    print(f\"{string_of_characters} is a palindrome.\")\n",
    "else:\n",
    "    print(f\"{string_of_characters} is not a palindrome.\")\n"
   ]
  },
  {
   "cell_type": "code",
   "execution_count": null,
   "id": "4b06fe1c",
   "metadata": {},
   "outputs": [],
   "source": []
  }
 ],
 "metadata": {
  "kernelspec": {
   "display_name": "Python 3 (ipykernel)",
   "language": "python",
   "name": "python3"
  },
  "language_info": {
   "codemirror_mode": {
    "name": "ipython",
    "version": 3
   },
   "file_extension": ".py",
   "mimetype": "text/x-python",
   "name": "python",
   "nbconvert_exporter": "python",
   "pygments_lexer": "ipython3",
   "version": "3.9.12"
  }
 },
 "nbformat": 4,
 "nbformat_minor": 5
}
