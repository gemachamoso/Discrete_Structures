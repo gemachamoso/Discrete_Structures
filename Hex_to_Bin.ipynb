{
 "cells": [
  {
   "cell_type": "code",
   "execution_count": 8,
   "id": "37c734dc",
   "metadata": {},
   "outputs": [
    {
     "name": "stdout",
     "output_type": "stream",
     "text": [
      "BADFACED\n",
      "1011 1010 1101 1111 1010 1100 1110 1101 "
     ]
    }
   ],
   "source": [
    "hex_to_bin = {\n",
    "    \"A\" : \"1010\",\n",
    "    \"B\" : \"1011\",\n",
    "    \"C\" : \"1100\",\n",
    "    \"D\" : \"1101\",\n",
    "    \"E\" : \"1110\",\n",
    "    \"F\" : \"1111\"\n",
    "}\n",
    "\n",
    "text = input()\n",
    "for item in text:\n",
    "    print(hex_to_bin[item], end= \" \")"
   ]
  },
  {
   "cell_type": "code",
   "execution_count": null,
   "id": "5733e077",
   "metadata": {},
   "outputs": [],
   "source": []
  }
 ],
 "metadata": {
  "kernelspec": {
   "display_name": "Python 3 (ipykernel)",
   "language": "python",
   "name": "python3"
  },
  "language_info": {
   "codemirror_mode": {
    "name": "ipython",
    "version": 3
   },
   "file_extension": ".py",
   "mimetype": "text/x-python",
   "name": "python",
   "nbconvert_exporter": "python",
   "pygments_lexer": "ipython3",
   "version": "3.9.12"
  }
 },
 "nbformat": 4,
 "nbformat_minor": 5
}
